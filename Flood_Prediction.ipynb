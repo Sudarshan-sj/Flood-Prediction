{
  "nbformat": 4,
  "nbformat_minor": 0,
  "metadata": {
    "colab": {
      "name": "Flood Prediction.ipynb",
      "provenance": [],
      "collapsed_sections": [],
      "toc_visible": true
    },
    "kernelspec": {
      "name": "python3",
      "display_name": "Python 3"
    }
  },
  "cells": [
    {
      "cell_type": "code",
      "metadata": {
        "id": "e_CADde0P8C1"
      },
      "source": [
        "import numpy as np\n",
        "import pandas as pd"
      ],
      "execution_count": 1,
      "outputs": []
    },
    {
      "cell_type": "code",
      "metadata": {
        "id": "GRgd22ttP-jL",
        "outputId": "096a5288-653b-4f51-e652-6a1f37daef0a",
        "colab": {
          "base_uri": "https://localhost:8080/"
        }
      },
      "source": [
        "#Read the data present in dataset\n",
        "data1 = pd.read_csv('rainfall in india 1901-2015 (1).csv')\n",
        "print(\"Enter the name of state :\\n\")\n",
        "arr = data1.SUBDIVISION.unique()\n",
        "i=0\n",
        "for state in arr:\n",
        "  print(str(i) +\".) \"+ state +\"\\n\" )\n",
        "  i+=1\n",
        "state = input(\"Select State: \")\n",
        "\n",
        "data=data1.loc[data1[\"SUBDIVISION\"]==state]\n"
      ],
      "execution_count": 5,
      "outputs": [
        {
          "output_type": "stream",
          "text": [
            "Enter the name of state :\n",
            "\n",
            "0.) ANDAMAN & NICOBAR ISLANDS\n",
            "\n",
            "1.) ARUNACHAL PRADESH\n",
            "\n",
            "2.) ASSAM & MEGHALAYA\n",
            "\n",
            "3.) NAGA MANI MIZO TRIPURA\n",
            "\n",
            "4.) SUB HIMALAYAN WEST BENGAL & SIKKIM\n",
            "\n",
            "5.) GANGETIC WEST BENGAL\n",
            "\n",
            "6.) ORISSA\n",
            "\n",
            "7.) JHARKHAND\n",
            "\n",
            "8.) BIHAR\n",
            "\n",
            "9.) EAST UTTAR PRADESH\n",
            "\n",
            "10.) WEST UTTAR PRADESH\n",
            "\n",
            "11.) UTTARAKHAND\n",
            "\n",
            "12.) HARYANA DELHI & CHANDIGARH\n",
            "\n",
            "13.) PUNJAB\n",
            "\n",
            "14.) HIMACHAL PRADESH\n",
            "\n",
            "15.) JAMMU & KASHMIR\n",
            "\n",
            "16.) WEST RAJASTHAN\n",
            "\n",
            "17.) EAST RAJASTHAN\n",
            "\n",
            "18.) WEST MADHYA PRADESH\n",
            "\n",
            "19.) EAST MADHYA PRADESH\n",
            "\n",
            "20.) GUJARAT REGION\n",
            "\n",
            "21.) SAURASHTRA & KUTCH\n",
            "\n",
            "22.) KONKAN & GOA\n",
            "\n",
            "23.) MADHYA MAHARASHTRA\n",
            "\n",
            "24.) MATATHWADA\n",
            "\n",
            "25.) VIDARBHA\n",
            "\n",
            "26.) CHHATTISGARH\n",
            "\n",
            "27.) COASTAL ANDHRA PRADESH\n",
            "\n",
            "28.) TELANGANA\n",
            "\n",
            "29.) RAYALSEEMA\n",
            "\n",
            "30.) TAMIL NADU\n",
            "\n",
            "31.) COASTAL KARNATAKA\n",
            "\n",
            "32.) NORTH INTERIOR KARNATAKA\n",
            "\n",
            "33.) SOUTH INTERIOR KARNATAKA\n",
            "\n",
            "34.) KERALA\n",
            "\n",
            "35.) LAKSHADWEEP\n",
            "\n",
            "Select State: KERALA\n"
          ],
          "name": "stdout"
        }
      ]
    },
    {
      "cell_type": "code",
      "metadata": {
        "id": "FL1coed_rnnn"
      },
      "source": [
        ""
      ],
      "execution_count": 15,
      "outputs": []
    },
    {
      "cell_type": "code",
      "metadata": {
        "id": "dkeQ74L2emv_"
      },
      "source": [
        "#filling missing values with mean\n",
        "data=data.fillna(data.mean())"
      ],
      "execution_count": 16,
      "outputs": []
    },
    {
      "cell_type": "code",
      "metadata": {
        "id": "mnE9iU9crpvM"
      },
      "source": [
        "#data['FLOODS'].replace(['YES','NO'],[1,0],inplace=True)\n",
        "#data.head()"
      ],
      "execution_count": 21,
      "outputs": []
    },
    {
      "cell_type": "code",
      "metadata": {
        "id": "2oJ5xW3F7MQM"
      },
      "source": [
        "#data[\"JUN-SEP\"]= data[\"JUN\"]+data[\"JUL\"]+data[\"AUG\"]+data[\"SEP\"]\n",
        "#data.head()\n",
        "FLOOD=[]\n",
        "a=list(data[\"Jun-Sep\"])\n",
        "for i in range(0,len(a)):\n",
        "    if a[i]>2100:\n",
        "        FLOOD.append(1)\n",
        "    else:\n",
        "        FLOOD.append(0)\n",
        "\n",
        "data[\"FLOOD\"]=FLOOD"
      ],
      "execution_count": 22,
      "outputs": []
    },
    {
      "cell_type": "code",
      "metadata": {
        "id": "VTcK8jHCrs_r"
      },
      "source": [
        "#Now let's seperate the data which we are gonna use for prediction\n",
        "x = data.iloc[:,1:14]"
      ],
      "execution_count": 23,
      "outputs": []
    },
    {
      "cell_type": "code",
      "metadata": {
        "id": "J_BoWR0EuPfY",
        "outputId": "22c7a57e-61e8-45a1-ab6c-c8226051eb68",
        "colab": {
          "base_uri": "https://localhost:8080/"
        }
      },
      "source": [
        "#Now seperate the flood label from the dataset\n",
        "y = data.iloc[:, -1]\n",
        "y.head()"
      ],
      "execution_count": 24,
      "outputs": [
        {
          "output_type": "execute_result",
          "data": {
            "text/plain": [
              "3887    1\n",
              "3888    1\n",
              "3889    1\n",
              "3890    1\n",
              "3891    0\n",
              "Name: FLOOD, dtype: int64"
            ]
          },
          "metadata": {
            "tags": []
          },
          "execution_count": 24
        }
      ]
    },
    {
      "cell_type": "code",
      "metadata": {
        "id": "rIv8U6UkyL-G",
        "outputId": "0937bbef-482f-4de5-e9f3-be0c32f7512d",
        "colab": {
          "base_uri": "https://localhost:8080/",
          "height": 281
        }
      },
      "source": [
        "#Let's see hoe the rainfall index vary during rainy season\n",
        "import matplotlib.pyplot as plt\n",
        "%matplotlib inline\n",
        "c = data[['JUN','JUL','AUG','SEP']]\n",
        "c.hist()\n",
        "plt.show()"
      ],
      "execution_count": 25,
      "outputs": [
        {
          "output_type": "display_data",
          "data": {
            "image/png": "[encoded data removed]",
            "text/plain": [
              "<Figure size 432x288 with 4 Axes>"
            ]
          },
          "metadata": {
            "tags": [],
            "needs_background": "light"
          }
        }
      ]
    },
    {
      "cell_type": "code",
      "metadata": {
        "id": "5BzzsquJyPZt",
        "outputId": "a0e87fed-4c8f-4c11-f3d4-2bc893f1883b",
        "colab": {
          "base_uri": "https://localhost:8080/"
        }
      },
      "source": [
        "#Data might be widely distributed so let's scale it between 0 and 1\n",
        "from sklearn import preprocessing\n",
        "minmax = preprocessing.MinMaxScaler(feature_range=(0,1))\n",
        "minmax.fit(x).transform(x)"
      ],
      "execution_count": 26,
      "outputs": [
        {
          "output_type": "execute_result",
          "data": {
            "text/plain": [
              "array([[0.        , 0.34371257, 0.56582278, ..., 0.39727673, 0.95570189,\n",
              "        0.2388724 ],\n",
              "       [0.00877193, 0.08023952, 0.03291139, ..., 0.5804966 , 0.37952709,\n",
              "        0.60039565],\n",
              "       [0.01754386, 0.03832335, 0.23544304, ..., 0.57188626, 0.37563604,\n",
              "        0.29129575],\n",
              "       ...,\n",
              "       [0.98245614, 0.04670659, 0.50759494, ..., 0.38325991, 0.36935049,\n",
              "        0.08358061],\n",
              "       [0.99122807, 0.05508982, 0.13037975, ..., 0.57468963, 0.20353188,\n",
              "        0.23293769],\n",
              "       [1.        , 0.03712575, 0.07341772, ..., 0.47977573, 0.57497755,\n",
              "        0.39218595]])"
            ]
          },
          "metadata": {
            "tags": []
          },
          "execution_count": 26
        }
      ]
    },
    {
      "cell_type": "code",
      "metadata": {
        "id": "UPkazrWAycJ5"
      },
      "source": [
        "#Let's divide the dataset into 2 sets:train and test in ratio (4:1)\n",
        "from sklearn import model_selection,neighbors\n",
        "from sklearn.model_selection import train_test_split\n",
        "x_train,x_test,y_train,y_test=train_test_split(x,y,test_size=0.2)"
      ],
      "execution_count": 27,
      "outputs": []
    },
    {
      "cell_type": "code",
      "metadata": {
        "id": "Ri8dayisypOC",
        "outputId": "2aed8bdb-eeac-4019-e690-e8016d1ba3a6",
        "colab": {
          "base_uri": "https://localhost:8080/"
        }
      },
      "source": [
        ""
      ],
      "execution_count": null,
      "outputs": [
        {
          "output_type": "stream",
          "text": [
            "3987    0\n",
            "3903    0\n",
            "3934    1\n",
            "3963    0\n",
            "3892    0\n",
            "3989    0\n",
            "3909    1\n",
            "4001    0\n",
            "3961    1\n",
            "3935    0\n",
            "3986    0\n",
            "3910    1\n",
            "3929    0\n",
            "3930    0\n",
            "3927    0\n",
            "3982    0\n",
            "3942    0\n",
            "3953    0\n",
            "3898    1\n",
            "3888    1\n",
            "3957    1\n",
            "3976    0\n",
            "3943    1\n",
            "Name: FLOOD, dtype: int64\n"
          ],
          "name": "stdout"
        }
      ]
    },
    {
      "cell_type": "code",
      "metadata": {
        "id": "P86OhcGFzRvF",
        "outputId": "54ddb302-f4f1-441b-be4b-2ecdb2381b32",
        "colab": {
          "base_uri": "https://localhost:8080/"
        }
      },
      "source": [
        "y_train.head()"
      ],
      "execution_count": null,
      "outputs": [
        {
          "output_type": "execute_result",
          "data": {
            "text/plain": [
              "3891    0\n",
              "3931    0\n",
              "4000    1\n",
              "3928    0\n",
              "3936    1\n",
              "Name: FLOOD, dtype: int64"
            ]
          },
          "metadata": {
            "tags": []
          },
          "execution_count": 97
        }
      ]
    },
    {
      "cell_type": "code",
      "metadata": {
        "id": "fq22DSLK0B2l",
        "outputId": "19ee5a30-915e-4185-94a6-877ab0c213b8",
        "colab": {
          "base_uri": "https://localhost:8080/"
        }
      },
      "source": [
        "\n",
        "x_train_std = minmax.fit_transform(x_train)\n",
        "x_test_std = minmax.transform(x_test)\n",
        "y_train\n"
      ],
      "execution_count": 28,
      "outputs": [
        {
          "output_type": "execute_result",
          "data": {
            "text/plain": [
              "3944    0\n",
              "3995    0\n",
              "3933    1\n",
              "3985    0\n",
              "3910    1\n",
              "       ..\n",
              "3902    1\n",
              "3972    0\n",
              "3888    1\n",
              "4000    1\n",
              "3964    0\n",
              "Name: FLOOD, Length: 92, dtype: int64"
            ]
          },
          "metadata": {
            "tags": []
          },
          "execution_count": 28
        }
      ]
    },
    {
      "cell_type": "code",
      "metadata": {
        "id": "MSS1vNFT0GJK"
      },
      "source": [
        "from sklearn.model_selection import cross_val_score\n",
        "\n",
        "clf = neighbors.KNeighborsClassifier()\n",
        "knn_clf = clf.fit(x_train,y_train)\n",
        "\n",
        "lr_accuracy = cross_val_score(knn_clf,x_test_std,y_test,cv=3,scoring='accuracy',n_jobs=-1)\n",
        " \n"
      ],
      "execution_count": 39,
      "outputs": []
    },
    {
      "cell_type": "code",
      "metadata": {
        "id": "Ahz7M2Wu0I3D",
        "outputId": "9414c84d-77b6-4ba9-dbad-236b5661a03f",
        "colab": {
          "base_uri": "https://localhost:8080/"
        }
      },
      "source": [
        "lr_accuracy.mean()"
      ],
      "execution_count": 40,
      "outputs": [
        {
          "output_type": "execute_result",
          "data": {
            "text/plain": [
              "0.6011904761904762"
            ]
          },
          "metadata": {
            "tags": []
          },
          "execution_count": 40
        }
      ]
    },
    {
      "cell_type": "code",
      "metadata": {
        "id": "CxJmNQgW3gKY",
        "outputId": "cba8d75b-a7e7-434e-9886-acc21d3e4397",
        "colab": {
          "base_uri": "https://localhost:8080/"
        }
      },
      "source": [
        "x_test = []\n",
        "raindata=[]\n",
        "raindata.append(2020)\n",
        "print('Enter the estimated rainfall data of the present year of the location\\n')\n",
        "raindata.append(float(input('Jan:')))\n",
        "raindata.append(float(input('Feb:')))\n",
        "raindata.append(float(input('Mar:')))\n",
        "raindata.append(float(input('Apr:')))\n",
        "raindata.append(float(input('May:')))\n",
        "raindata.append(float(input('Jun:')))\n",
        "raindata.append(float(input('Jul:')))\n",
        "raindata.append(float(input('Aug:')))\n",
        "raindata.append(float(input('Sep:')))\n",
        "raindata.append(float(input('Oct:')))\n",
        "raindata.append(float(input('Nov:')))\n",
        "raindata.append(float2(input('Dec:')))\n",
        "x_test.append(raindata)"
      ],
      "execution_count": 51,
      "outputs": [
        {
          "output_type": "stream",
          "text": [
            "Enter the estimated rainfall data of the present year of the location\n",
            "\n",
            "Jan:36.3\n",
            "Feb:323.3\n",
            "Mar:23.3\n",
            "Apr:23.3\n",
            "May:12.4\n",
            "Jun:323.5\n",
            "Jul:543.4\n",
            "Aug:233.3\n",
            "Sep:34.5\n",
            "Oct:21.1\n",
            "Nov:33.3\n",
            "Dec:11.2\n"
          ],
          "name": "stdout"
        }
      ]
    },
    {
      "cell_type": "code",
      "metadata": {
        "id": "AuSogqs_0LF7",
        "outputId": "8cde2e94-2528-42f7-f5cf-4857499d42cf",
        "colab": {
          "base_uri": "https://localhost:8080/"
        }
      },
      "source": [
        "y_predict = knn_clf.predict(x_test)\n",
        "print('Predicted chances of flood')\n",
        "if y_predict[0]==0:\n",
        "  print('No chance of occurence of flood')\n",
        "else:\n",
        "  print('There is chance of occurence of flood')"
      ],
      "execution_count": 53,
      "outputs": [
        {
          "output_type": "stream",
          "text": [
            "Predicted chances of flood\n",
            "No chance of occurence of flood\n"
          ],
          "name": "stdout"
        }
      ]
    }
  ]
}
